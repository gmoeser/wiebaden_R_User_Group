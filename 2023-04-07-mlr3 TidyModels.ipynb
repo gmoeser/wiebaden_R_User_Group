{
 "cells": [
  {
   "attachments": {},
   "cell_type": "markdown",
   "metadata": {},
   "source": [
    "# TidyModels and mlr3\n",
    "\n",
    "## Aufbau\n",
    "\n",
    "- Kurz was zu den Paketen und den Entwickler:innen (also TidyModels z.B. Vorgänger caret etc.; mlr3 Vorgänger mlr etc.)\n",
    "- Installation der Pakete (wie viel ist zu installieren, das ist ja im tidyverse immer so ein Problem, meist sehr viele Pakete)\n",
    "- Vorstellen eines Cases, ich würde hier tatsächlich den Lending Club Datensatz vorschlagen, da der so um die 30.000 Fälle hat, aber nur wenige Variablen. Das ist dann ein Regressionsbeispiel\n",
    "- Einfach mal zeigen, was da wie an Data Preparation gemacht werden kann (der Datensatz ist fertig aufbereitet, notwendig ist nur die Dummy-Bildung der kategorialen Variablen, da ist das Paket FastDummies wirklich genial, das könnten wir nutzen).\n",
    "    - Dummy Preparation\n",
    "    - Standardisieren (evtl.)\n",
    "    - Log der Zielvariablen (Diskussion)\n",
    "    - Split in Training und Test\n",
    "- Die Schritte können wir dann in eine Pipeline gießen (deshalb sind die Schritte interessant): in TidyModel heißt das nicht Pipeline, sondern Workflow\n",
    "- Dann einige Algorithmen -> es spielt nicht so eine große Rolle, wie viel wir von den Algorithmen wissen, da die Optimierung ja eh über die Hyperparametersuche passiert.\n",
    "- Und schließlich alles in das Hyperparameter-Tuning\n",
    "- (Natürlich noch Evaluation und Prediction)"
   ]
  },
  {
   "attachments": {},
   "cell_type": "markdown",
   "metadata": {},
   "source": [
    "## Package Handling\n",
    "\n",
    "Load packages `mlr3` and `tidymodels`"
   ]
  },
  {
   "cell_type": "code",
   "execution_count": 2,
   "metadata": {
    "vscode": {
     "languageId": "r"
    }
   },
   "outputs": [],
   "source": [
    "LoadAndOrInstallAPackage <- function(PackageName) {\n",
    "  # check if input is a character\n",
    "  if (!is.character(PackageName)) {\n",
    "    stop(\"Please provide the Package Name as a character!\")\n",
    "  }\n",
    "  # check if package is already installed and if not, install it\n",
    "  if (!require(PackageName, character.only = T)) install.packages(PackageName)\n",
    "  # Load the package if already installed\n",
    "  invisible(library(PackageName, character.only = T))\n",
    "}"
   ]
  },
  {
   "cell_type": "code",
   "execution_count": 13,
   "metadata": {
    "vscode": {
     "languageId": "r"
    }
   },
   "outputs": [
    {
     "name": "stderr",
     "output_type": "stream",
     "text": [
      "Lade n\"otiges Paket: skimr\n",
      "\n",
      "Warning message in library(package, lib.loc = lib.loc, character.only = TRUE, logical.return = TRUE, :\n",
      "\"es gibt kein Paket namens 'skimr'\"\n"
     ]
    },
    {
     "name": "stdout",
     "output_type": "stream",
     "text": [
      "\n",
      "Die heruntergeladenen Bin\"arpakete sind in \n",
      "\t/var/folders/2c/by9dxpt93r57m8h8pyjc00tm0000gn/T//RtmpeBa6JI/downloaded_packages\n"
     ]
    },
    {
     "name": "stderr",
     "output_type": "stream",
     "text": [
      "\n",
      "Attache Paket: 'skimr'\n",
      "\n",
      "\n",
      "Das folgende Objekt ist maskiert 'package:mlr3':\n",
      "\n",
      "    partition\n",
      "\n",
      "\n"
     ]
    },
    {
     "data": {
      "text/html": [
       "<dl>\n",
       "\t<dt>$mlr3</dt>\n",
       "\t\t<dd><style>\n",
       ".list-inline {list-style: none; margin:0; padding: 0}\n",
       ".list-inline>li {display: inline-block}\n",
       ".list-inline>li:not(:last-child)::after {content: \"\\00b7\"; padding: 0 .5ex}\n",
       "</style>\n",
       "<ol class=list-inline><li>'yardstick'</li><li>'workflowsets'</li><li>'workflows'</li><li>'tune'</li><li>'tidyr'</li><li>'tibble'</li><li>'rsample'</li><li>'recipes'</li><li>'purrr'</li><li>'parsnip'</li><li>'modeldata'</li><li>'infer'</li><li>'ggplot2'</li><li>'dplyr'</li><li>'dials'</li><li>'scales'</li><li>'broom'</li><li>'tidymodels'</li><li>'mlr3'</li><li>'stats'</li><li>'graphics'</li><li>'grDevices'</li><li>'utils'</li><li>'datasets'</li><li>'methods'</li><li>'base'</li></ol>\n",
       "</dd>\n",
       "\t<dt>$tidymodels</dt>\n",
       "\t\t<dd><style>\n",
       ".list-inline {list-style: none; margin:0; padding: 0}\n",
       ".list-inline>li {display: inline-block}\n",
       ".list-inline>li:not(:last-child)::after {content: \"\\00b7\"; padding: 0 .5ex}\n",
       "</style>\n",
       "<ol class=list-inline><li>'yardstick'</li><li>'workflowsets'</li><li>'workflows'</li><li>'tune'</li><li>'tidyr'</li><li>'tibble'</li><li>'rsample'</li><li>'recipes'</li><li>'purrr'</li><li>'parsnip'</li><li>'modeldata'</li><li>'infer'</li><li>'ggplot2'</li><li>'dplyr'</li><li>'dials'</li><li>'scales'</li><li>'broom'</li><li>'tidymodels'</li><li>'mlr3'</li><li>'stats'</li><li>'graphics'</li><li>'grDevices'</li><li>'utils'</li><li>'datasets'</li><li>'methods'</li><li>'base'</li></ol>\n",
       "</dd>\n",
       "\t<dt>$skimr</dt>\n",
       "\t\t<dd><style>\n",
       ".list-inline {list-style: none; margin:0; padding: 0}\n",
       ".list-inline>li {display: inline-block}\n",
       ".list-inline>li:not(:last-child)::after {content: \"\\00b7\"; padding: 0 .5ex}\n",
       "</style>\n",
       "<ol class=list-inline><li>'skimr'</li><li>'yardstick'</li><li>'workflowsets'</li><li>'workflows'</li><li>'tune'</li><li>'tidyr'</li><li>'tibble'</li><li>'rsample'</li><li>'recipes'</li><li>'purrr'</li><li>'parsnip'</li><li>'modeldata'</li><li>'infer'</li><li>'ggplot2'</li><li>'dplyr'</li><li>'dials'</li><li>'scales'</li><li>'broom'</li><li>'tidymodels'</li><li>'mlr3'</li><li>'stats'</li><li>'graphics'</li><li>'grDevices'</li><li>'utils'</li><li>'datasets'</li><li>'methods'</li><li>'base'</li></ol>\n",
       "</dd>\n",
       "</dl>\n"
      ],
      "text/latex": [
       "\\begin{description}\n",
       "\\item[\\$mlr3] \\begin{enumerate*}\n",
       "\\item 'yardstick'\n",
       "\\item 'workflowsets'\n",
       "\\item 'workflows'\n",
       "\\item 'tune'\n",
       "\\item 'tidyr'\n",
       "\\item 'tibble'\n",
       "\\item 'rsample'\n",
       "\\item 'recipes'\n",
       "\\item 'purrr'\n",
       "\\item 'parsnip'\n",
       "\\item 'modeldata'\n",
       "\\item 'infer'\n",
       "\\item 'ggplot2'\n",
       "\\item 'dplyr'\n",
       "\\item 'dials'\n",
       "\\item 'scales'\n",
       "\\item 'broom'\n",
       "\\item 'tidymodels'\n",
       "\\item 'mlr3'\n",
       "\\item 'stats'\n",
       "\\item 'graphics'\n",
       "\\item 'grDevices'\n",
       "\\item 'utils'\n",
       "\\item 'datasets'\n",
       "\\item 'methods'\n",
       "\\item 'base'\n",
       "\\end{enumerate*}\n",
       "\n",
       "\\item[\\$tidymodels] \\begin{enumerate*}\n",
       "\\item 'yardstick'\n",
       "\\item 'workflowsets'\n",
       "\\item 'workflows'\n",
       "\\item 'tune'\n",
       "\\item 'tidyr'\n",
       "\\item 'tibble'\n",
       "\\item 'rsample'\n",
       "\\item 'recipes'\n",
       "\\item 'purrr'\n",
       "\\item 'parsnip'\n",
       "\\item 'modeldata'\n",
       "\\item 'infer'\n",
       "\\item 'ggplot2'\n",
       "\\item 'dplyr'\n",
       "\\item 'dials'\n",
       "\\item 'scales'\n",
       "\\item 'broom'\n",
       "\\item 'tidymodels'\n",
       "\\item 'mlr3'\n",
       "\\item 'stats'\n",
       "\\item 'graphics'\n",
       "\\item 'grDevices'\n",
       "\\item 'utils'\n",
       "\\item 'datasets'\n",
       "\\item 'methods'\n",
       "\\item 'base'\n",
       "\\end{enumerate*}\n",
       "\n",
       "\\item[\\$skimr] \\begin{enumerate*}\n",
       "\\item 'skimr'\n",
       "\\item 'yardstick'\n",
       "\\item 'workflowsets'\n",
       "\\item 'workflows'\n",
       "\\item 'tune'\n",
       "\\item 'tidyr'\n",
       "\\item 'tibble'\n",
       "\\item 'rsample'\n",
       "\\item 'recipes'\n",
       "\\item 'purrr'\n",
       "\\item 'parsnip'\n",
       "\\item 'modeldata'\n",
       "\\item 'infer'\n",
       "\\item 'ggplot2'\n",
       "\\item 'dplyr'\n",
       "\\item 'dials'\n",
       "\\item 'scales'\n",
       "\\item 'broom'\n",
       "\\item 'tidymodels'\n",
       "\\item 'mlr3'\n",
       "\\item 'stats'\n",
       "\\item 'graphics'\n",
       "\\item 'grDevices'\n",
       "\\item 'utils'\n",
       "\\item 'datasets'\n",
       "\\item 'methods'\n",
       "\\item 'base'\n",
       "\\end{enumerate*}\n",
       "\n",
       "\\end{description}\n"
      ],
      "text/markdown": [
       "$mlr3\n",
       ":   1. 'yardstick'\n",
       "2. 'workflowsets'\n",
       "3. 'workflows'\n",
       "4. 'tune'\n",
       "5. 'tidyr'\n",
       "6. 'tibble'\n",
       "7. 'rsample'\n",
       "8. 'recipes'\n",
       "9. 'purrr'\n",
       "10. 'parsnip'\n",
       "11. 'modeldata'\n",
       "12. 'infer'\n",
       "13. 'ggplot2'\n",
       "14. 'dplyr'\n",
       "15. 'dials'\n",
       "16. 'scales'\n",
       "17. 'broom'\n",
       "18. 'tidymodels'\n",
       "19. 'mlr3'\n",
       "20. 'stats'\n",
       "21. 'graphics'\n",
       "22. 'grDevices'\n",
       "23. 'utils'\n",
       "24. 'datasets'\n",
       "25. 'methods'\n",
       "26. 'base'\n",
       "\n",
       "\n",
       "\n",
       "$tidymodels\n",
       ":   1. 'yardstick'\n",
       "2. 'workflowsets'\n",
       "3. 'workflows'\n",
       "4. 'tune'\n",
       "5. 'tidyr'\n",
       "6. 'tibble'\n",
       "7. 'rsample'\n",
       "8. 'recipes'\n",
       "9. 'purrr'\n",
       "10. 'parsnip'\n",
       "11. 'modeldata'\n",
       "12. 'infer'\n",
       "13. 'ggplot2'\n",
       "14. 'dplyr'\n",
       "15. 'dials'\n",
       "16. 'scales'\n",
       "17. 'broom'\n",
       "18. 'tidymodels'\n",
       "19. 'mlr3'\n",
       "20. 'stats'\n",
       "21. 'graphics'\n",
       "22. 'grDevices'\n",
       "23. 'utils'\n",
       "24. 'datasets'\n",
       "25. 'methods'\n",
       "26. 'base'\n",
       "\n",
       "\n",
       "\n",
       "$skimr\n",
       ":   1. 'skimr'\n",
       "2. 'yardstick'\n",
       "3. 'workflowsets'\n",
       "4. 'workflows'\n",
       "5. 'tune'\n",
       "6. 'tidyr'\n",
       "7. 'tibble'\n",
       "8. 'rsample'\n",
       "9. 'recipes'\n",
       "10. 'purrr'\n",
       "11. 'parsnip'\n",
       "12. 'modeldata'\n",
       "13. 'infer'\n",
       "14. 'ggplot2'\n",
       "15. 'dplyr'\n",
       "16. 'dials'\n",
       "17. 'scales'\n",
       "18. 'broom'\n",
       "19. 'tidymodels'\n",
       "20. 'mlr3'\n",
       "21. 'stats'\n",
       "22. 'graphics'\n",
       "23. 'grDevices'\n",
       "24. 'utils'\n",
       "25. 'datasets'\n",
       "26. 'methods'\n",
       "27. 'base'\n",
       "\n",
       "\n",
       "\n",
       "\n",
       "\n"
      ],
      "text/plain": [
       "$mlr3\n",
       " [1] \"yardstick\"    \"workflowsets\" \"workflows\"    \"tune\"         \"tidyr\"       \n",
       " [6] \"tibble\"       \"rsample\"      \"recipes\"      \"purrr\"        \"parsnip\"     \n",
       "[11] \"modeldata\"    \"infer\"        \"ggplot2\"      \"dplyr\"        \"dials\"       \n",
       "[16] \"scales\"       \"broom\"        \"tidymodels\"   \"mlr3\"         \"stats\"       \n",
       "[21] \"graphics\"     \"grDevices\"    \"utils\"        \"datasets\"     \"methods\"     \n",
       "[26] \"base\"        \n",
       "\n",
       "$tidymodels\n",
       " [1] \"yardstick\"    \"workflowsets\" \"workflows\"    \"tune\"         \"tidyr\"       \n",
       " [6] \"tibble\"       \"rsample\"      \"recipes\"      \"purrr\"        \"parsnip\"     \n",
       "[11] \"modeldata\"    \"infer\"        \"ggplot2\"      \"dplyr\"        \"dials\"       \n",
       "[16] \"scales\"       \"broom\"        \"tidymodels\"   \"mlr3\"         \"stats\"       \n",
       "[21] \"graphics\"     \"grDevices\"    \"utils\"        \"datasets\"     \"methods\"     \n",
       "[26] \"base\"        \n",
       "\n",
       "$skimr\n",
       " [1] \"skimr\"        \"yardstick\"    \"workflowsets\" \"workflows\"    \"tune\"        \n",
       " [6] \"tidyr\"        \"tibble\"       \"rsample\"      \"recipes\"      \"purrr\"       \n",
       "[11] \"parsnip\"      \"modeldata\"    \"infer\"        \"ggplot2\"      \"dplyr\"       \n",
       "[16] \"dials\"        \"scales\"       \"broom\"        \"tidymodels\"   \"mlr3\"        \n",
       "[21] \"stats\"        \"graphics\"     \"grDevices\"    \"utils\"        \"datasets\"    \n",
       "[26] \"methods\"      \"base\"        \n"
      ]
     },
     "metadata": {},
     "output_type": "display_data"
    }
   ],
   "source": [
    "packages <- c(\"mlr3\", \"tidymodels\", \"skimr\")\n",
    "sapply(packages, function(package) LoadAndOrInstallAPackage(package))"
   ]
  },
  {
   "attachments": {},
   "cell_type": "markdown",
   "metadata": {},
   "source": [
    "## Data IO"
   ]
  },
  {
   "cell_type": "code",
   "execution_count": 7,
   "metadata": {
    "vscode": {
     "languageId": "r"
    }
   },
   "outputs": [],
   "source": [
    "URL <- \"https://raw.githubusercontent.com/gmoeser/wiebaden_R_User_Group/master/LoanStats.csv\"\n",
    "LoanData <- read.csv(URL)\n",
    "colnames(LoanData)[1] <- \"int_rate\""
   ]
  },
  {
   "cell_type": "code",
   "execution_count": 8,
   "metadata": {
    "vscode": {
     "languageId": "r"
    }
   },
   "outputs": [
    {
     "data": {
      "text/html": [
       "<table class=\"dataframe\">\n",
       "<caption>A data.frame: 6 x 7</caption>\n",
       "<thead>\n",
       "\t<tr><th></th><th scope=col>int_rate</th><th scope=col>loan_amnt</th><th scope=col>term</th><th scope=col>grade</th><th scope=col>home_ownership</th><th scope=col>annual_inc</th><th scope=col>purpose</th></tr>\n",
       "\t<tr><th></th><th scope=col>&lt;dbl&gt;</th><th scope=col>&lt;int&gt;</th><th scope=col>&lt;int&gt;</th><th scope=col>&lt;chr&gt;</th><th scope=col>&lt;chr&gt;</th><th scope=col>&lt;dbl&gt;</th><th scope=col>&lt;chr&gt;</th></tr>\n",
       "</thead>\n",
       "<tbody>\n",
       "\t<tr><th scope=row>1</th><td>10.65</td><td> 5000</td><td>36</td><td>B</td><td>RENT</td><td>24000</td><td>credit_card   </td></tr>\n",
       "\t<tr><th scope=row>2</th><td>15.27</td><td> 2500</td><td>60</td><td>C</td><td>RENT</td><td>30000</td><td>car           </td></tr>\n",
       "\t<tr><th scope=row>3</th><td>15.96</td><td> 2400</td><td>36</td><td>C</td><td>RENT</td><td>12252</td><td>small_business</td></tr>\n",
       "\t<tr><th scope=row>4</th><td>13.49</td><td>10000</td><td>36</td><td>C</td><td>RENT</td><td>49200</td><td>other         </td></tr>\n",
       "\t<tr><th scope=row>5</th><td>12.69</td><td> 3000</td><td>60</td><td>B</td><td>RENT</td><td>80000</td><td>other         </td></tr>\n",
       "\t<tr><th scope=row>6</th><td> 7.90</td><td> 5000</td><td>36</td><td>A</td><td>RENT</td><td>36000</td><td>wedding       </td></tr>\n",
       "</tbody>\n",
       "</table>\n"
      ],
      "text/latex": [
       "A data.frame: 6 x 7\n",
       "\\begin{tabular}{r|lllllll}\n",
       "  & int\\_rate & loan\\_amnt & term & grade & home\\_ownership & annual\\_inc & purpose\\\\\n",
       "  & <dbl> & <int> & <int> & <chr> & <chr> & <dbl> & <chr>\\\\\n",
       "\\hline\n",
       "\t1 & 10.65 &  5000 & 36 & B & RENT & 24000 & credit\\_card   \\\\\n",
       "\t2 & 15.27 &  2500 & 60 & C & RENT & 30000 & car           \\\\\n",
       "\t3 & 15.96 &  2400 & 36 & C & RENT & 12252 & small\\_business\\\\\n",
       "\t4 & 13.49 & 10000 & 36 & C & RENT & 49200 & other         \\\\\n",
       "\t5 & 12.69 &  3000 & 60 & B & RENT & 80000 & other         \\\\\n",
       "\t6 &  7.90 &  5000 & 36 & A & RENT & 36000 & wedding       \\\\\n",
       "\\end{tabular}\n"
      ],
      "text/markdown": [
       "\n",
       "A data.frame: 6 x 7\n",
       "\n",
       "| <!--/--> | int_rate &lt;dbl&gt; | loan_amnt &lt;int&gt; | term &lt;int&gt; | grade &lt;chr&gt; | home_ownership &lt;chr&gt; | annual_inc &lt;dbl&gt; | purpose &lt;chr&gt; |\n",
       "|---|---|---|---|---|---|---|---|\n",
       "| 1 | 10.65 |  5000 | 36 | B | RENT | 24000 | credit_card    |\n",
       "| 2 | 15.27 |  2500 | 60 | C | RENT | 30000 | car            |\n",
       "| 3 | 15.96 |  2400 | 36 | C | RENT | 12252 | small_business |\n",
       "| 4 | 13.49 | 10000 | 36 | C | RENT | 49200 | other          |\n",
       "| 5 | 12.69 |  3000 | 60 | B | RENT | 80000 | other          |\n",
       "| 6 |  7.90 |  5000 | 36 | A | RENT | 36000 | wedding        |\n",
       "\n"
      ],
      "text/plain": [
       "  int_rate loan_amnt term grade home_ownership annual_inc purpose       \n",
       "1 10.65     5000     36   B     RENT           24000      credit_card   \n",
       "2 15.27     2500     60   C     RENT           30000      car           \n",
       "3 15.96     2400     36   C     RENT           12252      small_business\n",
       "4 13.49    10000     36   C     RENT           49200      other         \n",
       "5 12.69     3000     60   B     RENT           80000      other         \n",
       "6  7.90     5000     36   A     RENT           36000      wedding       "
      ]
     },
     "metadata": {},
     "output_type": "display_data"
    }
   ],
   "source": [
    "head(LoanData)"
   ]
  },
  {
   "cell_type": "code",
   "execution_count": 17,
   "metadata": {
    "vscode": {
     "languageId": "r"
    }
   },
   "outputs": [
    {
     "name": "stdout",
     "output_type": "stream",
     "text": [
      "-- Data Summary ------------------------\n",
      "                           Values  \n",
      "Name                       LoanData\n",
      "Number of rows             39786   \n",
      "Number of columns          7       \n",
      "_______________________            \n",
      "Column type frequency:             \n",
      "  character                3       \n",
      "  numeric                  4       \n",
      "________________________           \n",
      "Group variables            None    \n",
      "\n",
      "-- Variable type: character ----------------------------------------------------\n",
      "  skim_variable  n_missing complete_rate min max empty n_unique whitespace\n",
      "\u001b[90m1\u001b[39m grade                  0             1   1   1     0        7          0\n",
      "\u001b[90m2\u001b[39m home_ownership         0             1   3   8     0        5          0\n",
      "\u001b[90m3\u001b[39m purpose                0             1   3  18     0       14          0\n",
      "\n",
      "-- Variable type: numeric ------------------------------------------------------\n",
      "  skim_variable n_missing complete_rate    mean       sd      p0      p25\n",
      "\u001b[90m1\u001b[39m int_rate              0             1    12.0     3.73    5.42     9.25\n",
      "\u001b[90m2\u001b[39m loan_amnt             0             1 \u001b[4m1\u001b[24m\u001b[4m1\u001b[24m231.   \u001b[4m7\u001b[24m465.    500     \u001b[4m5\u001b[24m500   \n",
      "\u001b[90m3\u001b[39m term                  0             1    42.4    10.6    36       36   \n",
      "\u001b[90m4\u001b[39m annual_inc            0             1 \u001b[4m6\u001b[24m\u001b[4m8\u001b[24m979.  \u001b[4m6\u001b[24m\u001b[4m3\u001b[24m763.   \u001b[4m4\u001b[24m000    \u001b[4m4\u001b[24m\u001b[4m0\u001b[24m500   \n",
      "      p50     p75      p100 hist                            \n",
      "\u001b[90m1\u001b[39m    11.9    14.6      24.6 \u001b[90m\"\u001b[39m\\u2586\\u2587\\u2586\\u2582\\u2581\u001b[90m\"\u001b[39m\n",
      "\u001b[90m2\u001b[39m \u001b[4m1\u001b[24m\u001b[4m0\u001b[24m000   \u001b[4m1\u001b[24m\u001b[4m5\u001b[24m000     \u001b[4m3\u001b[24m\u001b[4m5\u001b[24m000   \u001b[90m\"\u001b[39m\\u2587\\u2587\\u2583\\u2582\\u2581\u001b[90m\"\u001b[39m\n",
      "\u001b[90m3\u001b[39m    36      60        60   \u001b[90m\"\u001b[39m\\u2587\\u2581\\u2581\\u2581\\u2583\u001b[90m\"\u001b[39m\n",
      "\u001b[90m4\u001b[39m \u001b[4m5\u001b[24m\u001b[4m9\u001b[24m000   \u001b[4m8\u001b[24m\u001b[4m2\u001b[24m342.  6\u001b[4m0\u001b[24m\u001b[4m0\u001b[24m\u001b[4m0\u001b[24m000   \u001b[90m\"\u001b[39m\\u2587\\u2581\\u2581\\u2581\\u2581\u001b[90m\"\u001b[39m\n"
     ]
    },
    {
     "name": "stderr",
     "output_type": "stream",
     "text": [
      "Warning message in is.null(text_repr) || nchar(text_repr) == 0L:\n",
      "\"'length(x) = 17 > 1' in coercion to 'logical(1)'\"\n"
     ]
    },
    {
     "data": {
      "text/html": [
       "<table class=\"dataframe\">\n",
       "<caption>A skim_df: 7 x 17</caption>\n",
       "<thead>\n",
       "\t<tr><th></th><th scope=col>skim_type</th><th scope=col>skim_variable</th><th scope=col>n_missing</th><th scope=col>complete_rate</th><th scope=col>character.min</th><th scope=col>character.max</th><th scope=col>character.empty</th><th scope=col>character.n_unique</th><th scope=col>character.whitespace</th><th scope=col>numeric.mean</th><th scope=col>numeric.sd</th><th scope=col>numeric.p0</th><th scope=col>numeric.p25</th><th scope=col>numeric.p50</th><th scope=col>numeric.p75</th><th scope=col>numeric.p100</th><th scope=col>numeric.hist</th></tr>\n",
       "\t<tr><th></th><th scope=col>&lt;chr&gt;</th><th scope=col>&lt;chr&gt;</th><th scope=col>&lt;int&gt;</th><th scope=col>&lt;dbl&gt;</th><th scope=col>&lt;int&gt;</th><th scope=col>&lt;int&gt;</th><th scope=col>&lt;int&gt;</th><th scope=col>&lt;int&gt;</th><th scope=col>&lt;int&gt;</th><th scope=col>&lt;dbl&gt;</th><th scope=col>&lt;dbl&gt;</th><th scope=col>&lt;dbl&gt;</th><th scope=col>&lt;dbl&gt;</th><th scope=col>&lt;dbl&gt;</th><th scope=col>&lt;dbl&gt;</th><th scope=col>&lt;dbl&gt;</th><th scope=col>&lt;chr&gt;</th></tr>\n",
       "</thead>\n",
       "<tbody>\n",
       "\t<tr><th scope=row>1</th><td>character</td><td>grade         </td><td>0</td><td>1</td><td> 1</td><td> 1</td><td> 0</td><td> 7</td><td> 0</td><td>         NA</td><td>          NA</td><td>     NA</td><td>      NA</td><td>      NA</td><td>      NA</td><td>       NA</td><td>NA                                      </td></tr>\n",
       "\t<tr><th scope=row>2</th><td>character</td><td>home_ownership</td><td>0</td><td>1</td><td> 3</td><td> 8</td><td> 0</td><td> 5</td><td> 0</td><td>         NA</td><td>          NA</td><td>     NA</td><td>      NA</td><td>      NA</td><td>      NA</td><td>       NA</td><td>NA                                      </td></tr>\n",
       "\t<tr><th scope=row>3</th><td>character</td><td>purpose       </td><td>0</td><td>1</td><td> 3</td><td>18</td><td> 0</td><td>14</td><td> 0</td><td>         NA</td><td>          NA</td><td>     NA</td><td>      NA</td><td>      NA</td><td>      NA</td><td>       NA</td><td>NA                                      </td></tr>\n",
       "\t<tr><th scope=row>4</th><td><span style=white-space:pre-wrap>numeric  </span></td><td><span style=white-space:pre-wrap>int_rate      </span></td><td>0</td><td>1</td><td>NA</td><td>NA</td><td>NA</td><td>NA</td><td>NA</td><td><span style=white-space:pre-wrap>   12.02787</span></td><td><span style=white-space:pre-wrap>    3.727466</span></td><td><span style=white-space:pre-wrap>   5.42</span></td><td><span style=white-space:pre-wrap>    9.25</span></td><td><span style=white-space:pre-wrap>   11.86</span></td><td><span style=white-space:pre-wrap>   14.59</span></td><td>2.459e+01</td><td>&lt;U+2586&gt;&lt;U+2587&gt;&lt;U+2586&gt;&lt;U+2582&gt;&lt;U+2581&gt;</td></tr>\n",
       "\t<tr><th scope=row>5</th><td><span style=white-space:pre-wrap>numeric  </span></td><td><span style=white-space:pre-wrap>loan_amnt     </span></td><td>0</td><td>1</td><td>NA</td><td>NA</td><td>NA</td><td>NA</td><td>NA</td><td>11231.36028</td><td> 7464.542832</td><td> 500.00</td><td> 5500.00</td><td>10000.00</td><td>15000.00</td><td>3.500e+04</td><td>&lt;U+2587&gt;&lt;U+2587&gt;&lt;U+2583&gt;&lt;U+2582&gt;&lt;U+2581&gt;</td></tr>\n",
       "\t<tr><th scope=row>6</th><td><span style=white-space:pre-wrap>numeric  </span></td><td><span style=white-space:pre-wrap>term          </span></td><td>0</td><td>1</td><td>NA</td><td>NA</td><td>NA</td><td>NA</td><td>NA</td><td><span style=white-space:pre-wrap>   42.44850</span></td><td><span style=white-space:pre-wrap>   10.638782</span></td><td><span style=white-space:pre-wrap>  36.00</span></td><td><span style=white-space:pre-wrap>   36.00</span></td><td><span style=white-space:pre-wrap>   36.00</span></td><td><span style=white-space:pre-wrap>   60.00</span></td><td>6.000e+01</td><td>&lt;U+2587&gt;&lt;U+2581&gt;&lt;U+2581&gt;&lt;U+2581&gt;&lt;U+2583&gt;</td></tr>\n",
       "\t<tr><th scope=row>7</th><td><span style=white-space:pre-wrap>numeric  </span></td><td><span style=white-space:pre-wrap>annual_inc    </span></td><td>0</td><td>1</td><td>NA</td><td>NA</td><td>NA</td><td>NA</td><td>NA</td><td>68979.06676</td><td>63762.634520</td><td>4000.00</td><td>40500.00</td><td>59000.00</td><td>82342.50</td><td>6.000e+06</td><td>&lt;U+2587&gt;&lt;U+2581&gt;&lt;U+2581&gt;&lt;U+2581&gt;&lt;U+2581&gt;</td></tr>\n",
       "</tbody>\n",
       "</table>\n"
      ],
      "text/latex": [
       "A skim\\_df: 7 x 17\n",
       "\\begin{tabular}{r|lllllllllllllllll}\n",
       "  & skim\\_type & skim\\_variable & n\\_missing & complete\\_rate & character.min & character.max & character.empty & character.n\\_unique & character.whitespace & numeric.mean & numeric.sd & numeric.p0 & numeric.p25 & numeric.p50 & numeric.p75 & numeric.p100 & numeric.hist\\\\\n",
       "  & <chr> & <chr> & <int> & <dbl> & <int> & <int> & <int> & <int> & <int> & <dbl> & <dbl> & <dbl> & <dbl> & <dbl> & <dbl> & <dbl> & <chr>\\\\\n",
       "\\hline\n",
       "\t1 & character & grade          & 0 & 1 &  1 &  1 &  0 &  7 &  0 &          NA &           NA &      NA &       NA &       NA &       NA &        NA & NA                                      \\\\\n",
       "\t2 & character & home\\_ownership & 0 & 1 &  3 &  8 &  0 &  5 &  0 &          NA &           NA &      NA &       NA &       NA &       NA &        NA & NA                                      \\\\\n",
       "\t3 & character & purpose        & 0 & 1 &  3 & 18 &  0 & 14 &  0 &          NA &           NA &      NA &       NA &       NA &       NA &        NA & NA                                      \\\\\n",
       "\t4 & numeric   & int\\_rate       & 0 & 1 & NA & NA & NA & NA & NA &    12.02787 &     3.727466 &    5.42 &     9.25 &    11.86 &    14.59 & 2.459e+01 & <U+2586><U+2587><U+2586><U+2582><U+2581>\\\\\n",
       "\t5 & numeric   & loan\\_amnt      & 0 & 1 & NA & NA & NA & NA & NA & 11231.36028 &  7464.542832 &  500.00 &  5500.00 & 10000.00 & 15000.00 & 3.500e+04 & <U+2587><U+2587><U+2583><U+2582><U+2581>\\\\\n",
       "\t6 & numeric   & term           & 0 & 1 & NA & NA & NA & NA & NA &    42.44850 &    10.638782 &   36.00 &    36.00 &    36.00 &    60.00 & 6.000e+01 & <U+2587><U+2581><U+2581><U+2581><U+2583>\\\\\n",
       "\t7 & numeric   & annual\\_inc     & 0 & 1 & NA & NA & NA & NA & NA & 68979.06676 & 63762.634520 & 4000.00 & 40500.00 & 59000.00 & 82342.50 & 6.000e+06 & <U+2587><U+2581><U+2581><U+2581><U+2581>\\\\\n",
       "\\end{tabular}\n"
      ],
      "text/markdown": [
       "\n",
       "A skim_df: 7 x 17\n",
       "\n",
       "| <!--/--> | skim_type &lt;chr&gt; | skim_variable &lt;chr&gt; | n_missing &lt;int&gt; | complete_rate &lt;dbl&gt; | character.min &lt;int&gt; | character.max &lt;int&gt; | character.empty &lt;int&gt; | character.n_unique &lt;int&gt; | character.whitespace &lt;int&gt; | numeric.mean &lt;dbl&gt; | numeric.sd &lt;dbl&gt; | numeric.p0 &lt;dbl&gt; | numeric.p25 &lt;dbl&gt; | numeric.p50 &lt;dbl&gt; | numeric.p75 &lt;dbl&gt; | numeric.p100 &lt;dbl&gt; | numeric.hist &lt;chr&gt; |\n",
       "|---|---|---|---|---|---|---|---|---|---|---|---|---|---|---|---|---|---|\n",
       "| 1 | character | grade          | 0 | 1 |  1 |  1 |  0 |  7 |  0 |          NA |           NA |      NA |       NA |       NA |       NA |        NA | NA                                       |\n",
       "| 2 | character | home_ownership | 0 | 1 |  3 |  8 |  0 |  5 |  0 |          NA |           NA |      NA |       NA |       NA |       NA |        NA | NA                                       |\n",
       "| 3 | character | purpose        | 0 | 1 |  3 | 18 |  0 | 14 |  0 |          NA |           NA |      NA |       NA |       NA |       NA |        NA | NA                                       |\n",
       "| 4 | numeric   | int_rate       | 0 | 1 | NA | NA | NA | NA | NA |    12.02787 |     3.727466 |    5.42 |     9.25 |    11.86 |    14.59 | 2.459e+01 | &lt;U+2586&gt;&lt;U+2587&gt;&lt;U+2586&gt;&lt;U+2582&gt;&lt;U+2581&gt; |\n",
       "| 5 | numeric   | loan_amnt      | 0 | 1 | NA | NA | NA | NA | NA | 11231.36028 |  7464.542832 |  500.00 |  5500.00 | 10000.00 | 15000.00 | 3.500e+04 | &lt;U+2587&gt;&lt;U+2587&gt;&lt;U+2583&gt;&lt;U+2582&gt;&lt;U+2581&gt; |\n",
       "| 6 | numeric   | term           | 0 | 1 | NA | NA | NA | NA | NA |    42.44850 |    10.638782 |   36.00 |    36.00 |    36.00 |    60.00 | 6.000e+01 | &lt;U+2587&gt;&lt;U+2581&gt;&lt;U+2581&gt;&lt;U+2581&gt;&lt;U+2583&gt; |\n",
       "| 7 | numeric   | annual_inc     | 0 | 1 | NA | NA | NA | NA | NA | 68979.06676 | 63762.634520 | 4000.00 | 40500.00 | 59000.00 | 82342.50 | 6.000e+06 | &lt;U+2587&gt;&lt;U+2581&gt;&lt;U+2581&gt;&lt;U+2581&gt;&lt;U+2581&gt; |\n",
       "\n"
      ],
      "text/plain": []
     },
     "metadata": {},
     "output_type": "display_data"
    }
   ],
   "source": [
    "skimr::skim(LoanData)"
   ]
  },
  {
   "cell_type": "code",
   "execution_count": null,
   "metadata": {
    "vscode": {
     "languageId": "r"
    }
   },
   "outputs": [],
   "source": []
  }
 ],
 "metadata": {
  "kernelspec": {
   "display_name": "R",
   "language": "R",
   "name": "ir"
  },
  "language_info": {
   "codemirror_mode": "r",
   "file_extension": ".r",
   "mimetype": "text/x-r-source",
   "name": "R",
   "pygments_lexer": "r",
   "version": "4.2.2"
  },
  "orig_nbformat": 4
 },
 "nbformat": 4,
 "nbformat_minor": 2
}
